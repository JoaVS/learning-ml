{
 "cells": [
  {
   "cell_type": "code",
   "execution_count": 13,
   "metadata": {},
   "outputs": [
    {
     "name": "stdout",
     "output_type": "stream",
     "text": [
      "count     4.000000\n",
      "mean     32.500000\n",
      "std       6.454972\n",
      "min      25.000000\n",
      "25%      28.750000\n",
      "50%      32.500000\n",
      "75%      36.250000\n",
      "max      40.000000\n",
      "Name: Edad, dtype: float64\n"
     ]
    }
   ],
   "source": [
    "import pandas as pd \n",
    "\n",
    "\n",
    "datos = {\n",
    "    \"Nombre\": [\"Ana\", \"Luis\", \"Pedro\", \"María\"],\n",
    "    \"Edad\": [25, 30, 35, 40],\n",
    "    \"Ciudad\": [\"Madrid\", \"Barcelona\", \"Sevilla\", \"Valencia\"]\n",
    "}\n",
    "\n",
    "df = pd.DataFrame(datos)\n",
    "\n",
    "print(df['Edad'].describe())"
   ]
  },
  {
   "cell_type": "code",
   "execution_count": 16,
   "metadata": {},
   "outputs": [
    {
     "name": "stdout",
     "output_type": "stream",
     "text": [
      "   id  Gender   Age           City Profession  Academic Pressure  \\\n",
      "0   2    Male  33.0  Visakhapatnam    Student                5.0   \n",
      "1   8  Female  24.0      Bangalore    Student                2.0   \n",
      "2  26    Male  31.0       Srinagar    Student                3.0   \n",
      "3  30  Female  28.0       Varanasi    Student                3.0   \n",
      "4  32  Female  25.0         Jaipur    Student                4.0   \n",
      "\n",
      "   Work Pressure  CGPA  Study Satisfaction  Job Satisfaction  \\\n",
      "0            0.0  8.97                 2.0               0.0   \n",
      "1            0.0  5.90                 5.0               0.0   \n",
      "2            0.0  7.03                 5.0               0.0   \n",
      "3            0.0  5.59                 2.0               0.0   \n",
      "4            0.0  8.13                 3.0               0.0   \n",
      "\n",
      "        Sleep Duration Dietary Habits   Degree  \\\n",
      "0          '5-6 hours'        Healthy  B.Pharm   \n",
      "1          '5-6 hours'       Moderate      BSc   \n",
      "2  'Less than 5 hours'        Healthy       BA   \n",
      "3          '7-8 hours'       Moderate      BCA   \n",
      "4          '5-6 hours'       Moderate   M.Tech   \n",
      "\n",
      "  Have you ever had suicidal thoughts ?  Work/Study Hours Financial Stress  \\\n",
      "0                                   Yes               3.0              1.0   \n",
      "1                                    No               3.0              2.0   \n",
      "2                                    No               9.0              1.0   \n",
      "3                                   Yes               4.0              5.0   \n",
      "4                                   Yes               1.0              1.0   \n",
      "\n",
      "  Family History of Mental Illness  Depression  \n",
      "0                               No           1  \n",
      "1                              Yes           0  \n",
      "2                              Yes           0  \n",
      "3                              Yes           1  \n",
      "4                               No           0  \n"
     ]
    }
   ],
   "source": [
    "df = pd.read_csv('./datasets/student_depression_dataset.csv')\n",
    "\n",
    "print(df.head())"
   ]
  }
 ],
 "metadata": {
  "kernelspec": {
   "display_name": "Python 3",
   "language": "python",
   "name": "python3"
  },
  "language_info": {
   "codemirror_mode": {
    "name": "ipython",
    "version": 3
   },
   "file_extension": ".py",
   "mimetype": "text/x-python",
   "name": "python",
   "nbconvert_exporter": "python",
   "pygments_lexer": "ipython3",
   "version": "3.10.12"
  }
 },
 "nbformat": 4,
 "nbformat_minor": 2
}
